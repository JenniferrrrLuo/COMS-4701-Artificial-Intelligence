{
  "metadata": {
    "kernelspec": {
      "name": "python3",
      "display_name": "Python 3"
    },
    "colab": {
      "provenance": [],
      "gpuType": "T4"
    },
    "accelerator": "GPU"
  },
  "nbformat": 4,
  "nbformat_minor": 0,
  "cells": [
    {
      "cell_type": "code",
      "execution_count": 1,
      "metadata": {
        "colab": {
          "base_uri": "https://localhost:8080/",
          "height": 0
        },
        "id": "-vcMOXjhg8OV",
        "outputId": "50828575-5270-416a-9524-d09ea880f897"
      },
      "outputs": [
        {
          "output_type": "stream",
          "name": "stdout",
          "text": [
            "Device used: cpu\n"
          ]
        }
      ],
      "source": [
        "from torch.utils.data import DataLoader, random_split\n",
        "from collections import defaultdict\n",
        "from tqdm import tqdm\n",
        "\n",
        "import matplotlib.pyplot as plt\n",
        "import torch.nn.functional as F\n",
        "import torch.optim as optim\n",
        "import torch.nn as nn\n",
        "import numpy as np\n",
        "\n",
        "import warnings\n",
        "import torch\n",
        "import os\n",
        "\n",
        "warnings.filterwarnings(\"ignore\")\n",
        "device = torch.device(\"cuda\" if torch.cuda.is_available() else \"cpu\")\n",
        "print(f\"Device used: {device}\")"
      ]
    },
    {
      "cell_type": "markdown",
      "metadata": {
        "id": "hHcQO-ERg8OW"
      },
      "source": [
        "# Image Classification\n",
        "\n",
        "For this last assignment, you will use PyTorch to implement a convolutional neural network image classifier. You will walk through the steps of setting up data, implementing training and validation code, specifying parameters, and learning and evaluating a model.\n",
        "\n",
        "First, we will need to import the Imagenette data. In order to run it, download both `imagenette_train.pt` and `imagenett_test.pt` from the shared Google Drive [link](https://drive.google.com/drive/folders/1K8wD1dhGJ2ULG8KoBjDs6uzh5UwmfNw-?usp=sharing). Then, when you have saved them to a directory in your own Google Drive, run the function `import_imagenette_data()`, calling `/content/drive/MyDrive/<DIR_NAME>/` as a parameter."
      ]
    },
    {
      "cell_type": "code",
      "execution_count": 2,
      "metadata": {
        "id": "yFoD4UINg8OY"
      },
      "outputs": [],
      "source": [
        "def import_imagenette_data(\n",
        "    dir: str = \"/content/drive/MyDrive/\"\n",
        "):\n",
        "\n",
        "    from google.colab import drive\n",
        "    drive.mount('/content/drive')\n",
        "    print(\"Downloading Imagenette Data...\", end=\" \")\n",
        "    train_data = torch.load(os.path.join(dir, \"imagenette_train.pt\"))\n",
        "    test_data = torch.load(os.path.join(dir, \"imagenette_test.pt\"))\n",
        "    print(\"Download Complete!\")\n",
        "\n",
        "    return train_data, test_data"
      ]
    },
    {
      "cell_type": "code",
      "execution_count": 3,
      "metadata": {
        "colab": {
          "base_uri": "https://localhost:8080/",
          "height": 0
        },
        "id": "gvTlWn7bg8OZ",
        "outputId": "74c9fac1-fb8a-4711-8c57-ac595aeca86b"
      },
      "outputs": [
        {
          "output_type": "stream",
          "name": "stdout",
          "text": [
            "Drive already mounted at /content/drive; to attempt to forcibly remount, call drive.mount(\"/content/drive\", force_remount=True).\n",
            "Downloading Imagenette Data... Download Complete!\n"
          ]
        }
      ],
      "source": [
        "BASE_DIR = \"/content/drive/MyDrive/\"\n",
        "DIR_NAME = \"ai-hw-6/\"\n",
        "FULL_DIR = os.path.join(BASE_DIR, DIR_NAME)\n",
        "all_train_data, test_data = import_imagenette_data(FULL_DIR)"
      ]
    },
    {
      "cell_type": "markdown",
      "metadata": {
        "id": "HdRPHPaLg8OZ"
      },
      "source": [
        "# Task 1: `CNN` Class (8 points)\n",
        "\n",
        "Our first task will be to write a class that stores a convolutional neural network model. Write the `__init__()` function. It should define two `nn.Sequential` attributes: `self.conv` and `self.fc`. `self.conv` should be a convolutional sequence; `self.fc` should be a simple multi-layer perceptron.\n",
        "\n",
        "* The first layer of `self.conv` is a 2D convolutional layer that takes the specified number of in-channels, 16 out-channels, a kernel size of 8, and a stride length of 4. Follow this with a rectified linear unit, and then a 2D max pooling layer with kernel size 2 and stride length 2. Finally, repeat these three layers, but this time change the convolutional layer to have 16 in-channels, 32 out-channels, a kernel size of 4, and a stride length of 2. In the end, ```self.conv``` should have a total of 6 ```nn.Module``` objects.\n",
        "\n",
        "* `self.fc` should consist of a flattening layer to flatten the output of `self.conv`. Then add a linear layer, a rectified linear unit, a linear layer, a rectified linear unit, and one final linear layer. The input dimension of `self.fc` should be the same as the output dimension of `self.conv`. The output dimension of `self.fc` should be the number of classes. For all other intermediate input/output dimensions, fix them to any number you'd like (we recommend anything above 256). In the end, ```self.fc``` should have 6 ```nn.Module``` objects.\n",
        "\n",
        "* Be sure to call `super()` so that `CNN` can access methods form `nn.Module`.\n",
        "\n",
        "* Be sure to send each of the constructed sequences to the specified device."
      ]
    },
    {
      "cell_type": "code",
      "execution_count": 4,
      "metadata": {
        "id": "N_MM0VvRg8OZ"
      },
      "outputs": [],
      "source": [
        "class CNN(nn.Module):\n",
        "    def __init__(\n",
        "            self,\n",
        "            in_channels,\n",
        "            num_classes,\n",
        "            device,\n",
        "    ):\n",
        "        # TODO\n",
        "\n",
        "        super(CNN, self).__init__()\n",
        "\n",
        "        self.conv = nn.Sequential(\n",
        "            nn.Conv2d(in_channels, 16, kernel_size=8, stride=4),\n",
        "            nn.ReLU(),\n",
        "            nn.MaxPool2d(kernel_size=2, stride=2),\n",
        "            nn.Conv2d(16, 32, kernel_size=4, stride=2),\n",
        "            nn.ReLU(),\n",
        "            nn.MaxPool2d(kernel_size=2, stride=2)\n",
        "        ).to(device)\n",
        "\n",
        "        flattened_size = 1152\n",
        "\n",
        "        self.fc = nn.Sequential(\n",
        "            nn.Flatten(),\n",
        "            nn.Linear(flattened_size, 512),\n",
        "            nn.ReLU(),\n",
        "            nn.Linear(512, 256),\n",
        "            nn.ReLU(),\n",
        "            nn.Linear(256, num_classes)\n",
        "        ).to(device)\n",
        "\n",
        "    def forward(\n",
        "            self,\n",
        "            x,\n",
        "    ):\n",
        "        return self.fc(self.conv(x))"
      ]
    },
    {
      "cell_type": "markdown",
      "metadata": {
        "id": "Z3w1XC59g8OZ"
      },
      "source": [
        "# Task 2: Data and Learning Setup (12 points)\n",
        "\n",
        "At the beginning, we imported two datasets: ```all_train_data``` and ```test_data```. When training a model, we want to train the model parameters on a _subset_ of the training data, and use the remaining training data to _validate_ and generalize the model.\n",
        "\n",
        "* Use ```random_split()``` to separate ```all_train_data``` into a training dataset and a validation dataset. The training dataset should contain 80\\% of the original training data, while the other 20\\% should belong to the validation dataset.\n",
        "\n",
        "* Store the training data, validation data, and test data in three separate `DataLoader` objects. Specify a batch size of 32.\n",
        "\n",
        "*  Print out the number of data points in each of the three datasets (training, validation, and test datasets)."
      ]
    },
    {
      "cell_type": "code",
      "execution_count": 5,
      "metadata": {
        "id": "j6Q5kMvHg8Oa",
        "colab": {
          "base_uri": "https://localhost:8080/",
          "height": 0
        },
        "outputId": "e4cffe62-319b-4414-bcc9-a92ab2bd03fa"
      },
      "outputs": [
        {
          "output_type": "stream",
          "name": "stdout",
          "text": [
            "Training dataset size: 7282\n",
            "Validation dataset size: 1821\n",
            "Test dataset size: 3925\n"
          ]
        }
      ],
      "source": [
        "from torch.utils.data import DataLoader, random_split\n",
        "\n",
        "total_train_samples = len(all_train_data)\n",
        "train_size = int(0.8 * total_train_samples)\n",
        "validation_size = total_train_samples - train_size\n",
        "\n",
        "train_data, validation_data = random_split(all_train_data, [train_size, validation_size])\n",
        "\n",
        "train_loader = DataLoader(train_data, batch_size=32, shuffle=True)\n",
        "validation_loader = DataLoader(validation_data, batch_size=32, shuffle=False)\n",
        "test_loader = DataLoader(test_data, batch_size=32, shuffle=False)\n",
        "\n",
        "print(f\"Training dataset size: {len(train_loader.dataset)}\")\n",
        "print(f\"Validation dataset size: {len(validation_loader.dataset)}\")\n",
        "print(f\"Test dataset size: {len(test_loader.dataset)}\")\n"
      ]
    },
    {
      "cell_type": "markdown",
      "metadata": {
        "id": "QPA2RD3ng8Oa"
      },
      "source": [
        "In order to train and evaluate our model, we need an optimizer and a criterion. For the former, we will use a procedure called [Adam](https://arxiv.org/abs/1412.6980) (ADAptive Moment estimation). Adam works similarly to stochastic gradient descent, except it _adapts_ its step size according to _momentum_, which is a measure of how close it is to a local minimum.\n",
        "\n",
        "For the criterion, we will use cross-entropy loss, which just corresponds to the log loss that we saw in class for logistic regression.\n",
        "\n",
        "* First initialize your CNN model, setting the number of input channels to 3 (one for each color channel), the number of classes to 10, and the device to the device you are currently using.\n",
        "\n",
        "* Initialize an optimizer variable using the Adam optimizer from the PyTorch library. Set the learning rate to $1 \\times 10^{-4}$.\n",
        "\n",
        "* Initialize a criterion variable using the cross-entropy loss criterion from the PyTorch library."
      ]
    },
    {
      "cell_type": "code",
      "execution_count": 6,
      "metadata": {
        "id": "Fu6J1cA_g8Oa",
        "colab": {
          "base_uri": "https://localhost:8080/",
          "height": 0
        },
        "outputId": "5dea809f-270f-414f-a087-8c11305f57b7"
      },
      "outputs": [
        {
          "output_type": "stream",
          "name": "stdout",
          "text": [
            "Model initialized on device: cpu\n",
            "Optimizer and criterion are set.\n"
          ]
        }
      ],
      "source": [
        "import torch\n",
        "import torch.nn as nn\n",
        "import torch.optim as optim\n",
        "\n",
        "device = torch.device(\"cuda\" if torch.cuda.is_available() else \"cpu\")\n",
        "model = CNN(in_channels=3, num_classes=10, device=device)\n",
        "\n",
        "model.to(device)\n",
        "\n",
        "optimizer = optim.Adam(model.parameters(), lr=1e-4)\n",
        "criterion = nn.CrossEntropyLoss()\n",
        "print(f\"Model initialized on device: {device}\")\n",
        "print(\"Optimizer and criterion are set.\")\n"
      ]
    },
    {
      "cell_type": "markdown",
      "metadata": {
        "id": "fRR62gHag8Oa"
      },
      "source": [
        "# Task 3: `train()` Function (16 points)\n",
        "\n",
        "Now we will implement ```train()```, the main function that will iterate through our data to learn the model. It takes in 7 parameters:\n",
        "\n",
        "1. ```train_data```: this is a DataLoader object containing the training data.\n",
        "2. ```val_data```: this is a DataLoader object containing the validation data.\n",
        "3. ```model```: this is the CNN model that you instantiated to be trained.\n",
        "4. ```criterion```: this is the criterion to be used during training.\n",
        "5. ```optimizer```: this is the optimizer to be used during training.\n",
        "6. ```num_epochs```: this is the number of epochs to train for.\n",
        "7. ```device```: this is the device to send all computations to.\n",
        "\n",
        "To train, you will iterate over the specified number of epochs. In each epoch, you will execute the training phase by iterating through the DataLoaders, calculating losses, and computing gradient update steps. You will then repeat these steps for the validation phase, but without the step of computing gradients and updating the model.\n",
        "\n",
        "Within this function, you should also update the defined `info` dictionary. It contains four lists, updated at the end of each epoch: `\"train_losses\"`, `\"train_accuracies\"`, `\"val_losses\"`, `\"val_accuracies\"`. Return this dictionary when this function completes."
      ]
    },
    {
      "cell_type": "code",
      "execution_count": 7,
      "metadata": {
        "id": "6tErAjc1g8Oa"
      },
      "outputs": [],
      "source": [
        "def train(\n",
        "        train_data: DataLoader,\n",
        "        val_data: DataLoader,\n",
        "        model: nn.Module,\n",
        "        criterion: nn.Module,\n",
        "        optimizer: optim.Optimizer,\n",
        "        num_epochs: int,\n",
        "        device: str = \"cpu\",\n",
        "):\n",
        "    info = defaultdict(list)\n",
        "\n",
        "    # TODO\n",
        "\n",
        "    model.to(device)\n",
        "\n",
        "    for epoch in range(num_epochs):\n",
        "        model.train()\n",
        "        train_loss, train_correct, train_total = 0, 0, 0\n",
        "\n",
        "        for data, target in train_data:\n",
        "            data, target = data.to(device), target.to(device)\n",
        "\n",
        "            optimizer.zero_grad()\n",
        "            output = model(data)\n",
        "            loss = criterion(output, target)\n",
        "            loss.backward()\n",
        "            optimizer.step()\n",
        "\n",
        "            train_loss += loss.item()\n",
        "            _, predicted = torch.max(output.data, 1)\n",
        "            train_total += target.size(0)\n",
        "            train_correct += (predicted == target).sum().item()\n",
        "\n",
        "        avg_train_loss = train_loss / len(train_data)\n",
        "        train_accuracy = 100 * train_correct / train_total\n",
        "        info['train_losses'].append(avg_train_loss)\n",
        "        info['train_accuracies'].append(train_accuracy)\n",
        "\n",
        "        model.eval()\n",
        "        val_loss, val_correct, val_total = 0, 0, 0\n",
        "        with torch.no_grad():\n",
        "            for data, target in val_data:\n",
        "                data, target = data.to(device), target.to(device)\n",
        "\n",
        "                output = model(data)\n",
        "                loss = criterion(output, target)\n",
        "\n",
        "                val_loss += loss.item()\n",
        "                _, predicted = torch.max(output.data, 1)\n",
        "                val_total += target.size(0)\n",
        "                val_correct += (predicted == target).sum().item()\n",
        "\n",
        "        avg_val_loss = val_loss / len(val_data)\n",
        "        val_accuracy = 100 * val_correct / val_total\n",
        "        info['val_losses'].append(avg_val_loss)\n",
        "        info['val_accuracies'].append(val_accuracy)\n",
        "\n",
        "        print(f\"Epoch {epoch+1}/{num_epochs} - \"\n",
        "              f\"Train Loss: {avg_train_loss:.4f}, Train Acc: {train_accuracy:.2f}% - \"\n",
        "              f\"Val Loss: {avg_val_loss:.4f}, Val Acc: {val_accuracy:.2f}%\")\n",
        "\n",
        "    return info"
      ]
    },
    {
      "cell_type": "markdown",
      "metadata": {
        "id": "Z9CCFV3tg8Ob"
      },
      "source": [
        "Once you have this function implemented, call it to train the model with all of our defined parameters. Use 50 epochs."
      ]
    },
    {
      "cell_type": "code",
      "execution_count": 8,
      "metadata": {
        "id": "DZmTk-cyg8Ob",
        "colab": {
          "base_uri": "https://localhost:8080/",
          "height": 0
        },
        "outputId": "4cc3bc68-516f-4b08-b87c-22e3827bed8a"
      },
      "outputs": [
        {
          "output_type": "stream",
          "name": "stdout",
          "text": [
            "Epoch 1/50 - Train Loss: 2.1307, Train Acc: 23.24% - Val Loss: 1.9818, Val Acc: 30.92%\n",
            "Epoch 2/50 - Train Loss: 1.9032, Train Acc: 33.58% - Val Loss: 1.8396, Val Acc: 35.26%\n",
            "Epoch 3/50 - Train Loss: 1.7710, Train Acc: 38.51% - Val Loss: 1.7622, Val Acc: 38.77%\n",
            "Epoch 4/50 - Train Loss: 1.6759, Train Acc: 42.24% - Val Loss: 1.6837, Val Acc: 41.35%\n",
            "Epoch 5/50 - Train Loss: 1.5883, Train Acc: 44.96% - Val Loss: 1.6590, Val Acc: 42.83%\n",
            "Epoch 6/50 - Train Loss: 1.5178, Train Acc: 48.20% - Val Loss: 1.6051, Val Acc: 45.03%\n",
            "Epoch 7/50 - Train Loss: 1.4579, Train Acc: 50.54% - Val Loss: 1.5196, Val Acc: 47.45%\n",
            "Epoch 8/50 - Train Loss: 1.4004, Train Acc: 52.82% - Val Loss: 1.4746, Val Acc: 49.64%\n",
            "Epoch 9/50 - Train Loss: 1.3365, Train Acc: 55.08% - Val Loss: 1.4347, Val Acc: 50.52%\n",
            "Epoch 10/50 - Train Loss: 1.2955, Train Acc: 56.91% - Val Loss: 1.4145, Val Acc: 51.95%\n",
            "Epoch 11/50 - Train Loss: 1.2462, Train Acc: 58.09% - Val Loss: 1.4062, Val Acc: 54.15%\n",
            "Epoch 12/50 - Train Loss: 1.2067, Train Acc: 60.30% - Val Loss: 1.3724, Val Acc: 53.82%\n",
            "Epoch 13/50 - Train Loss: 1.1615, Train Acc: 61.18% - Val Loss: 1.3751, Val Acc: 53.93%\n",
            "Epoch 14/50 - Train Loss: 1.1329, Train Acc: 62.57% - Val Loss: 1.3180, Val Acc: 55.30%\n",
            "Epoch 15/50 - Train Loss: 1.1013, Train Acc: 63.72% - Val Loss: 1.3534, Val Acc: 55.41%\n",
            "Epoch 16/50 - Train Loss: 1.0585, Train Acc: 65.81% - Val Loss: 1.3028, Val Acc: 57.83%\n",
            "Epoch 17/50 - Train Loss: 1.0250, Train Acc: 66.00% - Val Loss: 1.2879, Val Acc: 57.66%\n",
            "Epoch 18/50 - Train Loss: 0.9902, Train Acc: 67.80% - Val Loss: 1.2616, Val Acc: 58.10%\n",
            "Epoch 19/50 - Train Loss: 0.9507, Train Acc: 68.47% - Val Loss: 1.2909, Val Acc: 58.21%\n",
            "Epoch 20/50 - Train Loss: 0.9329, Train Acc: 69.14% - Val Loss: 1.3480, Val Acc: 56.34%\n",
            "Epoch 21/50 - Train Loss: 0.8918, Train Acc: 70.53% - Val Loss: 1.2629, Val Acc: 59.58%\n",
            "Epoch 22/50 - Train Loss: 0.8560, Train Acc: 71.45% - Val Loss: 1.2696, Val Acc: 59.20%\n",
            "Epoch 23/50 - Train Loss: 0.8212, Train Acc: 73.10% - Val Loss: 1.2679, Val Acc: 58.87%\n",
            "Epoch 24/50 - Train Loss: 0.7887, Train Acc: 73.98% - Val Loss: 1.2984, Val Acc: 58.87%\n",
            "Epoch 25/50 - Train Loss: 0.7536, Train Acc: 75.46% - Val Loss: 1.2747, Val Acc: 59.31%\n",
            "Epoch 26/50 - Train Loss: 0.7169, Train Acc: 76.78% - Val Loss: 1.3076, Val Acc: 60.68%\n",
            "Epoch 27/50 - Train Loss: 0.6954, Train Acc: 77.49% - Val Loss: 1.2567, Val Acc: 61.01%\n",
            "Epoch 28/50 - Train Loss: 0.6515, Train Acc: 78.70% - Val Loss: 1.3027, Val Acc: 59.31%\n",
            "Epoch 29/50 - Train Loss: 0.6133, Train Acc: 80.16% - Val Loss: 1.3274, Val Acc: 60.02%\n",
            "Epoch 30/50 - Train Loss: 0.5728, Train Acc: 81.57% - Val Loss: 1.3410, Val Acc: 59.69%\n",
            "Epoch 31/50 - Train Loss: 0.5568, Train Acc: 82.02% - Val Loss: 1.3503, Val Acc: 60.02%\n",
            "Epoch 32/50 - Train Loss: 0.5026, Train Acc: 83.62% - Val Loss: 1.3604, Val Acc: 59.86%\n",
            "Epoch 33/50 - Train Loss: 0.4702, Train Acc: 85.25% - Val Loss: 1.4132, Val Acc: 59.80%\n",
            "Epoch 34/50 - Train Loss: 0.4256, Train Acc: 87.27% - Val Loss: 1.4632, Val Acc: 59.09%\n",
            "Epoch 35/50 - Train Loss: 0.3984, Train Acc: 87.92% - Val Loss: 1.4468, Val Acc: 60.74%\n",
            "Epoch 36/50 - Train Loss: 0.3600, Train Acc: 89.37% - Val Loss: 1.5044, Val Acc: 59.75%\n",
            "Epoch 37/50 - Train Loss: 0.3417, Train Acc: 89.71% - Val Loss: 1.5559, Val Acc: 59.53%\n",
            "Epoch 38/50 - Train Loss: 0.2991, Train Acc: 91.43% - Val Loss: 1.5254, Val Acc: 60.41%\n",
            "Epoch 39/50 - Train Loss: 0.2686, Train Acc: 92.74% - Val Loss: 1.6858, Val Acc: 58.26%\n",
            "Epoch 40/50 - Train Loss: 0.2444, Train Acc: 92.98% - Val Loss: 1.6532, Val Acc: 59.80%\n",
            "Epoch 41/50 - Train Loss: 0.2131, Train Acc: 94.44% - Val Loss: 1.7784, Val Acc: 57.94%\n",
            "Epoch 42/50 - Train Loss: 0.1871, Train Acc: 95.58% - Val Loss: 1.7947, Val Acc: 59.20%\n",
            "Epoch 43/50 - Train Loss: 0.1723, Train Acc: 95.81% - Val Loss: 1.9045, Val Acc: 57.66%\n",
            "Epoch 44/50 - Train Loss: 0.1508, Train Acc: 96.58% - Val Loss: 1.9075, Val Acc: 57.94%\n",
            "Epoch 45/50 - Train Loss: 0.1265, Train Acc: 97.24% - Val Loss: 1.9498, Val Acc: 58.98%\n",
            "Epoch 46/50 - Train Loss: 0.1072, Train Acc: 97.93% - Val Loss: 1.9464, Val Acc: 59.03%\n",
            "Epoch 47/50 - Train Loss: 0.0902, Train Acc: 98.37% - Val Loss: 2.0533, Val Acc: 59.42%\n",
            "Epoch 48/50 - Train Loss: 0.0806, Train Acc: 98.57% - Val Loss: 2.0945, Val Acc: 59.58%\n",
            "Epoch 49/50 - Train Loss: 0.0645, Train Acc: 98.89% - Val Loss: 2.2685, Val Acc: 57.55%\n",
            "Epoch 50/50 - Train Loss: 0.0631, Train Acc: 98.97% - Val Loss: 2.3017, Val Acc: 58.32%\n",
            "Training complete.\n"
          ]
        }
      ],
      "source": [
        "num_epochs = 50\n",
        "training_info = train(train_loader, validation_loader, model, criterion, optimizer, num_epochs, device)\n",
        "print(\"Training complete.\")"
      ]
    },
    {
      "cell_type": "markdown",
      "metadata": {
        "id": "nOHHREc5g8Ob"
      },
      "source": [
        "# Task 4: Loss and Accuracy Curves (8 points)\n",
        "\n",
        "Use the ```plot_info()``` function below to plot the training and validation losses and accuracies in `info`. Then briefly answer the following questions.\n",
        "\n",
        "* Give a qualitative description of the training and validation loss curves. What do you notice about the loss curves in relation to each other?\n",
        "\n",
        "* Let's focus on the validation loss and accuracy curves. Around how many epochs does the model begin to overfit? What do the loss and accuracy curves look like when this happens?\n",
        "\n",
        "* Let's zoom in once more on the validation loss curve only. How does this curve inform you on when your model has the best performance without overfitting the training data?"
      ]
    },
    {
      "cell_type": "code",
      "execution_count": 9,
      "metadata": {
        "id": "gFjB2Ujig8Ob"
      },
      "outputs": [],
      "source": [
        "def plot_info(info):\n",
        "    fig, ax = plt.axes = plt.subplots(1, 2, figsize=(10, 3))\n",
        "    ax[0].plot(info[\"train_losses\"], label=\"Train Loss\")\n",
        "    ax[0].plot(info[\"val_losses\"], label=\"Validation Loss\")\n",
        "    ax[0].set_xlabel(\"Epochs\")\n",
        "    ax[0].set_ylabel(\"Loss\")\n",
        "    ax[0].set_title(\"Loss vs. Epochs\")\n",
        "    ax[0].legend()\n",
        "    ax[1].plot(info[\"train_accuracies\"], label=\"Train Accuracy\")\n",
        "    ax[1].plot(info[\"val_accuracies\"], label=\"Validation Accuracy\")\n",
        "    ax[1].set_xlabel(\"Epochs\")\n",
        "    ax[1].set_ylabel(\"Accuracy\")\n",
        "    ax[1].set_title(\"Accuracy vs. Epochs\")\n",
        "    ax[1].legend()\n",
        "    plt.show()"
      ]
    },
    {
      "cell_type": "code",
      "execution_count": 10,
      "metadata": {
        "id": "wBfS0DjPg8Oc",
        "colab": {
          "base_uri": "https://localhost:8080/",
          "height": 333
        },
        "outputId": "5f0a7cfd-8d7a-450b-d0be-70b28cd49302"
      },
      "outputs": [
        {
          "output_type": "display_data",
          "data": {
            "text/plain": [
              "<Figure size 1000x300 with 2 Axes>"
            ],
            "image/png": "[encoded data removed]"
          },
          "metadata": {}
        }
      ],
      "source": [
        "plot_info(training_info)"
      ]
    },
    {
      "cell_type": "markdown",
      "metadata": {
        "id": "XMP_gg3Fg8Oc"
      },
      "source": [
        "# Task 5: `test()` Function (8 points)\n",
        "\n",
        "The last task in most learning tasks is to obtain a final evaluation of a model's performance on test data. Implement the `test()` function below, which takes a (test) dataset and model. It should then perform prediction on each data instance and compute and return the overall accuracy. Its implementation should be relatively similar to that of `train()`."
      ]
    },
    {
      "cell_type": "code",
      "execution_count": 11,
      "metadata": {
        "id": "a_1kUfOEg8Oc"
      },
      "outputs": [],
      "source": [
        "def test(test_data, model):\n",
        "    # TODO\n",
        "    model.eval()\n",
        "    device = next(model.parameters()).device\n",
        "    correct = 0\n",
        "    total = 0\n",
        "\n",
        "    with torch.no_grad():\n",
        "        for images, labels in test_data:\n",
        "            images, labels = images.to(device), labels.to(device)\n",
        "            outputs = model(images)\n",
        "            _, predicted = torch.max(outputs.data, 1)\n",
        "            total += labels.size(0)\n",
        "            correct += (predicted == labels).sum().item()\n",
        "\n",
        "    accuracy = 100 * correct / total\n",
        "    return accuracy"
      ]
    },
    {
      "cell_type": "markdown",
      "metadata": {
        "id": "_sImiJJ8g8Oc"
      },
      "source": [
        "# Task 6: Model Comparison (8 points)\n",
        "\n",
        "Let's retrieve the \"best\" model from the training procedure and compare it against the \"last\" one that we obtain after 50 epochs. Modify the `train()` from Part 3 to include the following:\n",
        "\n",
        "* Save the model with the lowest validation loss to ```best_model.pth``` using `torch.save()`. You can do this by comparing each epoch's loss to the lowest one seen so far, and overriding the previous best model with the current one if you see a lower loss.\n",
        "\n",
        "* Save the model at the end of the training loop to ```last_model.pth```.\n",
        "\n",
        "After making these additions, instantiate a new model, train it using the same parameters as Task 3, and save your best and last models. Then, evaluate both models on the testing data using your `test()` function. Print the accuracies returned by each."
      ]
    },
    {
      "cell_type": "code",
      "execution_count": 12,
      "metadata": {
        "id": "OYSvfgxwg8Oc"
      },
      "outputs": [],
      "source": [
        "import torch\n",
        "from collections import defaultdict\n",
        "\n",
        "def train(train_data, val_data, model, criterion, optimizer, num_epochs, device=\"cpu\"):\n",
        "    info = defaultdict(list)\n",
        "    model.to(device)\n",
        "    lowest_val_loss = float('inf')\n",
        "\n",
        "    for epoch in range(num_epochs):\n",
        "        model.train()\n",
        "        train_loss, train_correct, train_total = 0, 0, 0\n",
        "\n",
        "        for data, target in train_data:\n",
        "            data, target = data.to(device), target.to(device)\n",
        "\n",
        "            optimizer.zero_grad()\n",
        "            output = model(data)\n",
        "            loss = criterion(output, target)\n",
        "            loss.backward()\n",
        "            optimizer.step()\n",
        "\n",
        "            train_loss += loss.item()\n",
        "            _, predicted = torch.max(output.data, 1)\n",
        "            train_total += target.size(0)\n",
        "            train_correct += (predicted == target).sum().item()\n",
        "\n",
        "        avg_train_loss = train_loss / len(train_data)\n",
        "        train_accuracy = 100 * train_correct / train_total\n",
        "        info['train_losses'].append(avg_train_loss)\n",
        "        info['train_accuracies'].append(train_accuracy)\n",
        "\n",
        "        model.eval()\n",
        "        val_loss, val_correct, val_total = 0, 0, 0\n",
        "        with torch.no_grad():\n",
        "            for data, target in val_data:\n",
        "                data, target = data.to(device), target.to(device)\n",
        "\n",
        "                output = model(data)\n",
        "                loss = criterion(output, target)\n",
        "\n",
        "                val_loss += loss.item()\n",
        "                _, predicted = torch.max(output.data, 1)\n",
        "                val_total += target.size(0)\n",
        "                val_correct += (predicted == target).sum().item()\n",
        "\n",
        "        avg_val_loss = val_loss / len(val_data)\n",
        "        val_accuracy = 100 * val_correct / val_total\n",
        "        info['val_losses'].append(avg_val_loss)\n",
        "        info['val_accuracies'].append(val_accuracy)\n",
        "\n",
        "        if avg_val_loss < lowest_val_loss:\n",
        "            lowest_val_loss = avg_val_loss\n",
        "            torch.save(model.state_dict(), 'best_model.pth')\n",
        "\n",
        "        print(f\"Epoch {epoch+1}/{num_epochs} - \"\n",
        "              f\"Train Loss: {avg_train_loss:.4f}, Train Acc: {train_accuracy:.2f}% - \"\n",
        "              f\"Val Loss: {avg_val_loss:.4f}, Val Acc: {val_accuracy:.2f}%\")\n",
        "\n",
        "    torch.save(model.state_dict(), 'last_model.pth')\n",
        "\n",
        "    return info"
      ]
    },
    {
      "cell_type": "code",
      "source": [
        "import torch\n",
        "import torch.nn as nn\n",
        "import torch.optim as optim\n",
        "from torch.utils.data import DataLoader\n",
        "\n",
        "device = torch.device(\"cuda\" if torch.cuda.is_available() else \"cpu\")\n",
        "num_classes = 10\n",
        "learning_rate = 1e-4\n",
        "num_epochs = 50\n",
        "\n",
        "model = CNN(in_channels=3, num_classes=num_classes, device=device)\n",
        "\n",
        "optimizer = optim.Adam(model.parameters(), lr=learning_rate)\n",
        "criterion = nn.CrossEntropyLoss()\n",
        "info = train(train_loader, validation_loader, model, criterion, optimizer, num_epochs, device)\n",
        "\n",
        "best_model = CNN(in_channels=3, num_classes=num_classes, device=device)\n",
        "best_model.load_state_dict(torch.load('best_model.pth'))\n",
        "best_model.to(device)\n",
        "\n",
        "last_model = CNN(in_channels=3, num_classes=num_classes, device=device)\n",
        "last_model.load_state_dict(torch.load('last_model.pth'))\n",
        "last_model.to(device)\n",
        "\n",
        "best_accuracy = test(test_loader, best_model)\n",
        "last_accuracy = test(test_loader, last_model)\n",
        "\n",
        "print(f\"Accuracy of the best model: {best_accuracy:.2f}%\")\n",
        "print(f\"Accuracy of the last model: {last_accuracy:.2f}%\")\n"
      ],
      "metadata": {
        "colab": {
          "base_uri": "https://localhost:8080/",
          "height": 0
        },
        "id": "o84t-l_y4I2F",
        "outputId": "61dac700-175a-4aaf-ff42-f66734199d5c"
      },
      "execution_count": 13,
      "outputs": [
        {
          "output_type": "stream",
          "name": "stdout",
          "text": [
            "Epoch 1/50 - Train Loss: 2.1327, Train Acc: 23.81% - Val Loss: 1.9439, Val Acc: 30.59%\n",
            "Epoch 2/50 - Train Loss: 1.8612, Train Acc: 36.01% - Val Loss: 1.8564, Val Acc: 37.07%\n",
            "Epoch 3/50 - Train Loss: 1.7339, Train Acc: 40.83% - Val Loss: 1.7203, Val Acc: 41.52%\n",
            "Epoch 4/50 - Train Loss: 1.6228, Train Acc: 45.14% - Val Loss: 1.6740, Val Acc: 42.17%\n",
            "Epoch 5/50 - Train Loss: 1.5514, Train Acc: 47.57% - Val Loss: 1.5942, Val Acc: 45.19%\n",
            "Epoch 6/50 - Train Loss: 1.4676, Train Acc: 50.60% - Val Loss: 1.5233, Val Acc: 49.97%\n",
            "Epoch 7/50 - Train Loss: 1.4102, Train Acc: 52.36% - Val Loss: 1.5279, Val Acc: 49.81%\n",
            "Epoch 8/50 - Train Loss: 1.3302, Train Acc: 55.20% - Val Loss: 1.4497, Val Acc: 52.11%\n",
            "Epoch 9/50 - Train Loss: 1.2762, Train Acc: 57.54% - Val Loss: 1.4990, Val Acc: 50.30%\n",
            "Epoch 10/50 - Train Loss: 1.2279, Train Acc: 59.31% - Val Loss: 1.4461, Val Acc: 53.05%\n",
            "Epoch 11/50 - Train Loss: 1.1738, Train Acc: 61.00% - Val Loss: 1.3772, Val Acc: 54.97%\n",
            "Epoch 12/50 - Train Loss: 1.1356, Train Acc: 62.78% - Val Loss: 1.4236, Val Acc: 53.27%\n",
            "Epoch 13/50 - Train Loss: 1.0916, Train Acc: 64.67% - Val Loss: 1.3360, Val Acc: 56.73%\n",
            "Epoch 14/50 - Train Loss: 1.0425, Train Acc: 65.74% - Val Loss: 1.3688, Val Acc: 56.23%\n",
            "Epoch 15/50 - Train Loss: 0.9952, Train Acc: 67.45% - Val Loss: 1.3110, Val Acc: 57.61%\n",
            "Epoch 16/50 - Train Loss: 0.9595, Train Acc: 68.51% - Val Loss: 1.3069, Val Acc: 57.77%\n",
            "Epoch 17/50 - Train Loss: 0.9213, Train Acc: 69.79% - Val Loss: 1.3633, Val Acc: 57.00%\n",
            "Epoch 18/50 - Train Loss: 0.8735, Train Acc: 71.48% - Val Loss: 1.3179, Val Acc: 57.83%\n",
            "Epoch 19/50 - Train Loss: 0.8313, Train Acc: 72.89% - Val Loss: 1.4295, Val Acc: 55.74%\n",
            "Epoch 20/50 - Train Loss: 0.7908, Train Acc: 74.43% - Val Loss: 1.4254, Val Acc: 56.07%\n",
            "Epoch 21/50 - Train Loss: 0.7514, Train Acc: 75.76% - Val Loss: 1.4212, Val Acc: 56.51%\n",
            "Epoch 22/50 - Train Loss: 0.6941, Train Acc: 78.08% - Val Loss: 1.3944, Val Acc: 57.28%\n",
            "Epoch 23/50 - Train Loss: 0.6545, Train Acc: 78.56% - Val Loss: 1.3642, Val Acc: 57.66%\n",
            "Epoch 24/50 - Train Loss: 0.6045, Train Acc: 80.77% - Val Loss: 1.4291, Val Acc: 57.66%\n",
            "Epoch 25/50 - Train Loss: 0.5617, Train Acc: 82.66% - Val Loss: 1.4757, Val Acc: 56.67%\n",
            "Epoch 26/50 - Train Loss: 0.5147, Train Acc: 83.86% - Val Loss: 1.5026, Val Acc: 56.89%\n",
            "Epoch 27/50 - Train Loss: 0.4679, Train Acc: 85.92% - Val Loss: 1.4797, Val Acc: 58.32%\n",
            "Epoch 28/50 - Train Loss: 0.4262, Train Acc: 87.32% - Val Loss: 1.5866, Val Acc: 56.23%\n",
            "Epoch 29/50 - Train Loss: 0.3871, Train Acc: 88.57% - Val Loss: 1.5604, Val Acc: 57.61%\n",
            "Epoch 30/50 - Train Loss: 0.3439, Train Acc: 90.04% - Val Loss: 1.6115, Val Acc: 57.72%\n",
            "Epoch 31/50 - Train Loss: 0.3032, Train Acc: 91.79% - Val Loss: 1.7222, Val Acc: 55.57%\n",
            "Epoch 32/50 - Train Loss: 0.2755, Train Acc: 92.28% - Val Loss: 1.7136, Val Acc: 57.28%\n",
            "Epoch 33/50 - Train Loss: 0.2364, Train Acc: 93.72% - Val Loss: 1.8714, Val Acc: 55.13%\n",
            "Epoch 34/50 - Train Loss: 0.2154, Train Acc: 94.53% - Val Loss: 1.7896, Val Acc: 56.95%\n",
            "Epoch 35/50 - Train Loss: 0.1736, Train Acc: 95.98% - Val Loss: 1.9065, Val Acc: 56.23%\n",
            "Epoch 36/50 - Train Loss: 0.1457, Train Acc: 96.84% - Val Loss: 1.9618, Val Acc: 56.23%\n",
            "Epoch 37/50 - Train Loss: 0.1189, Train Acc: 97.79% - Val Loss: 2.0560, Val Acc: 57.33%\n",
            "Epoch 38/50 - Train Loss: 0.1021, Train Acc: 98.08% - Val Loss: 2.1498, Val Acc: 56.67%\n",
            "Epoch 39/50 - Train Loss: 0.1050, Train Acc: 97.89% - Val Loss: 2.2125, Val Acc: 56.12%\n",
            "Epoch 40/50 - Train Loss: 0.0672, Train Acc: 99.12% - Val Loss: 2.3171, Val Acc: 55.24%\n",
            "Epoch 41/50 - Train Loss: 0.0577, Train Acc: 99.26% - Val Loss: 2.3636, Val Acc: 56.89%\n",
            "Epoch 42/50 - Train Loss: 0.0422, Train Acc: 99.57% - Val Loss: 2.4523, Val Acc: 56.84%\n",
            "Epoch 43/50 - Train Loss: 0.0410, Train Acc: 99.62% - Val Loss: 2.5046, Val Acc: 56.56%\n",
            "Epoch 44/50 - Train Loss: 0.0305, Train Acc: 99.73% - Val Loss: 2.5612, Val Acc: 56.34%\n",
            "Epoch 45/50 - Train Loss: 0.0266, Train Acc: 99.81% - Val Loss: 2.7010, Val Acc: 56.07%\n",
            "Epoch 46/50 - Train Loss: 0.0208, Train Acc: 99.95% - Val Loss: 2.8217, Val Acc: 56.01%\n",
            "Epoch 47/50 - Train Loss: 0.0215, Train Acc: 99.74% - Val Loss: 2.8564, Val Acc: 56.18%\n",
            "Epoch 48/50 - Train Loss: 0.1050, Train Acc: 96.79% - Val Loss: 2.9546, Val Acc: 53.38%\n",
            "Epoch 49/50 - Train Loss: 0.0678, Train Acc: 98.26% - Val Loss: 2.7474, Val Acc: 56.51%\n",
            "Epoch 50/50 - Train Loss: 0.0118, Train Acc: 99.95% - Val Loss: 2.8536, Val Acc: 56.67%\n",
            "Accuracy of the best model: 57.83%\n",
            "Accuracy of the last model: 57.61%\n"
          ]
        }
      ]
    }
  ]
}